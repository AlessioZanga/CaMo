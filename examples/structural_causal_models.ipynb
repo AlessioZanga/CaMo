{
  "cells": [
    {
      "cell_type": "code",
      "execution_count": 1,
      "metadata": {
        "id": "GPXOW8nctecx"
      },
      "outputs": [],
      "source": [
        "%%capture\n",
        "!pip install networkx numpy pandas statsmodels"
      ]
    },
    {
      "cell_type": "code",
      "execution_count": 2,
      "metadata": {
        "colab": {
          "base_uri": "https://localhost:8080/"
        },
        "id": "HgH3yxoLtec0",
        "outputId": "7dab3279-5f1c-4c1f-a5ef-2f490157502a"
      },
      "outputs": [
        {
          "name": "stderr",
          "output_type": "stream",
          "text": [
            "/usr/local/lib/python3.7/dist-packages/statsmodels/tools/_testing.py:19: FutureWarning: pandas.util.testing is deprecated. Use the functions in the public API at pandas.testing instead.\n",
            "  import pandas.util.testing as tm\n"
          ]
        }
      ],
      "source": [
        "import networkx as nx\n",
        "import numpy as np\n",
        "import pandas as pd\n",
        "import statsmodels.api as sm\n",
        "from typing import Set"
      ]
    },
    {
      "cell_type": "markdown",
      "metadata": {
        "id": "k6iVnojstec0"
      },
      "source": [
        "# Structural Causal Models"
      ]
    },
    {
      "cell_type": "markdown",
      "metadata": {
        "id": "TZBp7bJ_tec1"
      },
      "source": [
        "By Alessio Zanga and Fabio Stella"
      ]
    },
    {
      "cell_type": "markdown",
      "metadata": {
        "id": "4JwQIGgMtec2"
      },
      "source": [
        "## Abstract"
      ]
    },
    {
      "cell_type": "markdown",
      "metadata": {
        "id": "UgOcuoaatec2"
      },
      "source": [
        "This notebook illustrates a step-by-step example on estimating the average causal effect (ACE) given the appropriate backdoor adjustment set."
      ]
    },
    {
      "cell_type": "markdown",
      "metadata": {
        "id": "hvRFCtNZtec2"
      },
      "source": [
        "## Introduction"
      ]
    },
    {
      "cell_type": "markdown",
      "metadata": {
        "id": "J9pg0Plytec3"
      },
      "source": [
        "Continuing from [the previous example](https://colab.research.google.com/github/AlessioZanga/CaMo/blob/develop/examples/potential_outcomes.ipynb), the complete **systolic blood pressure** vs **sodium intake** causal graph is represented below."
      ]
    },
    {
      "cell_type": "code",
      "execution_count": 3,
      "metadata": {
        "colab": {
          "base_uri": "https://localhost:8080/",
          "height": 248
        },
        "id": "7eoQjLNitec3",
        "outputId": "677ca89a-ddd1-47a3-863e-e262bf96e429"
      },
      "outputs": [
        {
          "data": {
            "image/png": "[encoded data removed]",
            "text/plain": [
              "<Figure size 432x288 with 1 Axes>"
            ]
          },
          "metadata": {},
          "output_type": "display_data"
        }
      ],
      "source": [
        "G = nx.DiGraph()\n",
        "E_U = [(\"$U_{AGE}$\", \"AGE\"), (\"$U_{SOD}$\", \"SOD\"), (\"$U_{SBP}$\", \"SBP\"), (\"$U_{PRO}$\", \"PRO\")]\n",
        "E_V = [(\"SOD\", \"SBP\"), (\"AGE\", \"SOD\"), (\"AGE\", \"SBP\"), (\"SOD\", \"PRO\"), (\"SBP\", \"PRO\")]\n",
        "G.add_edges_from(E_U + E_V)   # Add exogenous and endogenous edges to graph\n",
        "pos = nx.circular_layout(G)   # Predefine graph layout\n",
        "_ = nx.draw_networkx_labels(G, pos)   # Plot node labels\n",
        "sty = {\"min_source_margin\": 12, \"min_target_margin\": 12}         # Set min distance from labels\n",
        "_ = nx.draw_networkx_edges(G, pos, E_U, style=\"dashed\", **sty)   # Plot dashed exogenous edges\n",
        "_ = nx.draw_networkx_edges(G, pos, E_V, style=\"solid\", **sty)    # Plot solid endogenous edges"
      ]
    },
    {
      "cell_type": "markdown",
      "metadata": {
        "id": "6AY0hiCBtec4"
      },
      "source": [
        "You are now able to match the previous **causal graph** to the sampling function, defining the associated **structural causal model (SCM)**.\n",
        "\n",
        "The complete specification of the casual model $M$ is given by $M = <U, V, F>$, where: \n",
        "\n",
        "- $U = \\{ U_{AGE}, \\, U_{SOD}, \\, U_{SBP}, \\, U_{PRO} \\}$,\n",
        "- $V = \\{ AGE, \\, SOD, \\, SBP, \\, PRO \\}$,\n",
        "- $F = \\{ f_{AGE}, f_{SOD}, f_{SBP}, f_{PRO} \\}$."
      ]
    },
    {
      "cell_type": "code",
      "execution_count": 4,
      "metadata": {
        "id": "XYr4nsOCtec5"
      },
      "outputs": [],
      "source": [
        "def sample_data(size: int = int(1e6), seed: int = 31):\n",
        "    # Set random generator seed for results reproducibility\n",
        "    np.random.seed(seed)\n",
        "    # Sample age with mean 65 and std 5\n",
        "    age = np.random.normal(65, 5, size)\n",
        "    # Sample sodium with additive noise\n",
        "    sod = 0.056 * age + np.random.normal(0, 1, size)\n",
        "    # Binarize sodium following cutoff\n",
        "    sod = (sod > 3.5).astype(int)\n",
        "    # Sample systolic blood pressure\n",
        "    sbp = 1.05 * sod + 2 * age + np.random.normal(0, 1, size)\n",
        "    # Sample urinary protein\n",
        "    pro = 0.4 * sod + 0.3 * sbp + np.random.normal(0, 1, size)\n",
        "    # Create a dataframe from sampled variables\n",
        "    return pd.DataFrame({\"AGE\": age, \"SOD\": sod, \"SBP\": sbp, \"PRO\": pro})"
      ]
    },
    {
      "cell_type": "markdown",
      "metadata": {
        "id": "OfM7E36Jtec5"
      },
      "source": [
        "Indeed, each line in this sampling function is a **structural equation** related to the **causal graph**:\n",
        "\n",
        "- $AGE := f_{AGE}(U_{AGE}) := N(65, 5)$,\n",
        "- $SOD := f_{SOD}(AGE, U_{SOD}) := I[(0.056 \\cdot AGE + N(0, 1)) > 3.50]$,\n",
        "- $SBP := f_{SBP}(AGE, SOD, U_{SBP}) := 1.05 \\cdot SOD + 2.00 \\cdot AGE + N(0, 1)$,\n",
        "- $PRO := f_{PRO}(SOD, SBP, U_{PRO}) := 0.40 \\cdot SOD + 0.30 \\cdot SBP + N(0, 1)$,"
      ]
    },
    {
      "cell_type": "markdown",
      "metadata": {
        "id": "rUprVpbutec6"
      },
      "source": [
        "where $N(\\mu, \\sigma)$ is a Gaussian noise with $\\mu$ mean and $\\sigma$ standard deviation and $I[X > x]$ is the indicator function."
      ]
    },
    {
      "cell_type": "markdown",
      "metadata": {
        "id": "kbPBvWDUtec6"
      },
      "source": [
        "Recall that the true ACE is given by the coefficient 1.05 that assign SBP a value given SOD."
      ]
    },
    {
      "cell_type": "code",
      "execution_count": 5,
      "metadata": {
        "colab": {
          "base_uri": "https://localhost:8080/",
          "height": 300
        },
        "id": "FIa81Gzgtec6",
        "outputId": "eafd46bd-3f77-49a5-bb36-b213be88fec7"
      },
      "outputs": [
        {
          "data": {
            "text/html": [
              "<div>\n",
              "<style scoped>\n",
              "    .dataframe tbody tr th:only-of-type {\n",
              "        vertical-align: middle;\n",
              "    }\n",
              "\n",
              "    .dataframe tbody tr th {\n",
              "        vertical-align: top;\n",
              "    }\n",
              "\n",
              "    .dataframe thead th {\n",
              "        text-align: right;\n",
              "    }\n",
              "</style>\n",
              "<table border=\"1\" class=\"dataframe\">\n",
              "  <thead>\n",
              "    <tr style=\"text-align: right;\">\n",
              "      <th></th>\n",
              "      <th>AGE</th>\n",
              "      <th>SOD</th>\n",
              "      <th>SBP</th>\n",
              "      <th>PRO</th>\n",
              "    </tr>\n",
              "  </thead>\n",
              "  <tbody>\n",
              "    <tr>\n",
              "      <th>count</th>\n",
              "      <td>1000000.000000</td>\n",
              "      <td>1000000.000000</td>\n",
              "      <td>1000000.000000</td>\n",
              "      <td>1000000.000000</td>\n",
              "    </tr>\n",
              "    <tr>\n",
              "      <th>mean</th>\n",
              "      <td>65.001134</td>\n",
              "      <td>0.552995</td>\n",
              "      <td>130.583161</td>\n",
              "      <td>39.396720</td>\n",
              "    </tr>\n",
              "    <tr>\n",
              "      <th>std</th>\n",
              "      <td>4.993518</td>\n",
              "      <td>0.497184</td>\n",
              "      <td>10.161539</td>\n",
              "      <td>3.263477</td>\n",
              "    </tr>\n",
              "    <tr>\n",
              "      <th>min</th>\n",
              "      <td>40.964418</td>\n",
              "      <td>0.000000</td>\n",
              "      <td>82.816817</td>\n",
              "      <td>24.421988</td>\n",
              "    </tr>\n",
              "    <tr>\n",
              "      <th>25%</th>\n",
              "      <td>61.627703</td>\n",
              "      <td>0.000000</td>\n",
              "      <td>123.720103</td>\n",
              "      <td>37.190745</td>\n",
              "    </tr>\n",
              "    <tr>\n",
              "      <th>50%</th>\n",
              "      <td>65.009236</td>\n",
              "      <td>1.000000</td>\n",
              "      <td>130.597297</td>\n",
              "      <td>39.402344</td>\n",
              "    </tr>\n",
              "    <tr>\n",
              "      <th>75%</th>\n",
              "      <td>68.372794</td>\n",
              "      <td>1.000000</td>\n",
              "      <td>137.445514</td>\n",
              "      <td>41.602773</td>\n",
              "    </tr>\n",
              "    <tr>\n",
              "      <th>max</th>\n",
              "      <td>87.717317</td>\n",
              "      <td>1.000000</td>\n",
              "      <td>176.708462</td>\n",
              "      <td>54.573313</td>\n",
              "    </tr>\n",
              "  </tbody>\n",
              "</table>\n",
              "</div>"
            ],
            "text/plain": [
              "                  AGE             SOD             SBP             PRO\n",
              "count  1000000.000000  1000000.000000  1000000.000000  1000000.000000\n",
              "mean        65.001134        0.552995      130.583161       39.396720\n",
              "std          4.993518        0.497184       10.161539        3.263477\n",
              "min         40.964418        0.000000       82.816817       24.421988\n",
              "25%         61.627703        0.000000      123.720103       37.190745\n",
              "50%         65.009236        1.000000      130.597297       39.402344\n",
              "75%         68.372794        1.000000      137.445514       41.602773\n",
              "max         87.717317        1.000000      176.708462       54.573313"
            ]
          },
          "execution_count": 5,
          "metadata": {},
          "output_type": "execute_result"
        }
      ],
      "source": [
        "data = sample_data()\n",
        "data.describe()"
      ]
    },
    {
      "cell_type": "markdown",
      "metadata": {
        "id": "c_RvLud_tec6"
      },
      "source": [
        "## Methods"
      ]
    },
    {
      "cell_type": "markdown",
      "metadata": {
        "id": "RiTvVVWjtec7"
      },
      "source": [
        "Assuming consistency, positivity, and unconfoundedness, the average causal effect (ACE) is defined:"
      ]
    },
    {
      "cell_type": "code",
      "execution_count": 6,
      "metadata": {
        "id": "9Gw7m0iRtec7"
      },
      "outputs": [],
      "source": [
        "def ACE(data: pd.DataFrame, X: str, Y: str, Z: Set[str]):\n",
        "    # Define the regresion model formula\n",
        "    formula = f\"{Y} ~ {X}\"\n",
        "    if len(Z) != 0: formula += \"+\" + \"+\".join(Z)\n",
        "    # Fit Ordinary Least Square regression model\n",
        "    estimator = sm.OLS.from_formula(formula, data).fit()\n",
        "    # Compute potential outcomes by fixing X\n",
        "    Y1 = estimator.predict(data.assign(**{X: 1}))\n",
        "    Y0 = estimator.predict(data.assign(**{X: 0}))\n",
        "    # Compute average causal effect\n",
        "    return np.mean(Y1 - Y0)"
      ]
    },
    {
      "cell_type": "markdown",
      "metadata": {
        "id": "_I2ZsuIXtec7"
      },
      "source": [
        "A set of variables **Z** satisfies the backdoor criterion relative to an ordered pair of variables (X, Y) if:\n",
        "\n",
        "- No node in **Z** is a descendant of X; and\n",
        "- **Z** blocks every path between X and Y that contains an arrow into X.\n",
        "\n",
        "While the former condition is clearly stated, the latter could be obscure and should be investigated further. Stating that **\"Z blocks every path (...)\"** might be misleading. In this context, **blocking** is intended as **d-separing**, which maps the first part to **\"Z d-separes every path (...)\"**. Moreover, **\"(...) that contains an arrow into X\"** is a convoluted expression which refers to the **parents of X**."
      ]
    },
    {
      "cell_type": "code",
      "execution_count": 7,
      "metadata": {
        "id": "FrsS2e0stec7"
      },
      "outputs": [],
      "source": [
        "def is_d_separated(G: nx.DiGraph, X: Set[str], Y: Set[str], Z: Set[str]) -> bool:\n",
        "    # If X, Y, Z are not disjoint, then X and Y are d-separated by default\n",
        "    if X & Z or Y & Z:\n",
        "        return True\n",
        "    return nx.d_separated(G, X, Y, Z)"
      ]
    },
    {
      "cell_type": "markdown",
      "metadata": {
        "id": "wrYFRlLLtec8"
      },
      "source": [
        "One might be tempted to translate this condition as $Pa(X), Y \\perp \\!\\!\\! \\perp_G \\textbf{Z}$, but it would be incomplete: following the definition of d-separation, X, Y and **Z** are required to be disjoint. Therefore,  **Z** alone would not be sufficient to block *every path between X and Y*, indeed the *direct* path between X and Y is still open. The correct translation is $Pa(X), Y \\perp \\!\\!\\! \\perp_G \\textbf{Z} \\cup \\{ X \\}$, where X itself blocks the direct path from X to Y, while **Z** blocks any *indirect* path from Pa(X) to Y."
      ]
    },
    {
      "cell_type": "code",
      "execution_count": 8,
      "metadata": {
        "id": "MMOtNvUatec8"
      },
      "outputs": [],
      "source": [
        "def is_backdoor_adjustement_set(G: nx.DiGraph, X: str, Y: str, Z: Set[str]) -> bool:\n",
        "    # (i) no node in Z is a descendant of X; and\n",
        "    if Z & nx.descendants(G, X):\n",
        "        return False\n",
        "    # (ii) Z blocks every path between X and Y that contains an arrow into X.\n",
        "    return all(is_d_separated(G, {W}, {Y}, Z | {X}) for W in G.predecessors(X))"
      ]
    },
    {
      "cell_type": "markdown",
      "metadata": {
        "id": "pZz_V0fetec8"
      },
      "source": [
        "## Results"
      ]
    },
    {
      "cell_type": "markdown",
      "metadata": {
        "id": "u1uDhipbtec8"
      },
      "source": [
        "The true ACE is:"
      ]
    },
    {
      "cell_type": "code",
      "execution_count": 9,
      "metadata": {
        "id": "8A9FCCUXtec8"
      },
      "outputs": [],
      "source": [
        "ace = 1.05"
      ]
    },
    {
      "cell_type": "markdown",
      "metadata": {
        "id": "jL39spFOtec8"
      },
      "source": [
        "The naive estimated ACE without adjustment is:"
      ]
    },
    {
      "cell_type": "code",
      "execution_count": 10,
      "metadata": {
        "colab": {
          "base_uri": "https://localhost:8080/",
          "height": 35
        },
        "id": "r5WudysRtec9",
        "outputId": "cc26e337-ad57-4492-c374-3d246dff697b"
      },
      "outputs": [
        {
          "data": {
            "application/vnd.google.colaboratory.intrinsic+json": {
              "type": "string"
            },
            "text/plain": [
              "'Estimated ACE: 5.37, Relative Error: 411.5%'"
            ]
          },
          "execution_count": 10,
          "metadata": {},
          "output_type": "execute_result"
        }
      ],
      "source": [
        "t = ACE(data, X = \"SOD\", Y = \"SBP\", Z = set())\n",
        "f\"Estimated ACE: {t:.3}, Relative Error: {(np.abs((t-ace)/ace*100)):.4}%\""
      ]
    },
    {
      "cell_type": "markdown",
      "metadata": {
        "id": "KvtY6Ngqtec9"
      },
      "source": [
        "The estimated ACE adjusting for AGE and PRO is:"
      ]
    },
    {
      "cell_type": "code",
      "execution_count": 11,
      "metadata": {
        "colab": {
          "base_uri": "https://localhost:8080/",
          "height": 35
        },
        "id": "GrWXNHYVtec9",
        "outputId": "d1d62c84-3f92-45b1-e52f-8c7e840ee1ef"
      },
      "outputs": [
        {
          "data": {
            "application/vnd.google.colaboratory.intrinsic+json": {
              "type": "string"
            },
            "text/plain": [
              "'Estimated ACE: 0.856, Relative Error: 18.46%'"
            ]
          },
          "execution_count": 11,
          "metadata": {},
          "output_type": "execute_result"
        }
      ],
      "source": [
        "t = ACE(data, X = \"SOD\", Y = \"SBP\", Z = {\"AGE\", \"PRO\"})\n",
        "f\"Estimated ACE: {t:.3}, Relative Error: {(np.abs((t-ace)/ace*100)):.4}%\""
      ]
    },
    {
      "cell_type": "markdown",
      "metadata": {
        "id": "yhVy-8Lwys9K"
      },
      "source": [
        "Let's check if the empty set $Z=\\{\\}$  is a backdoor adjustment set:"
      ]
    },
    {
      "cell_type": "code",
      "execution_count": 12,
      "metadata": {
        "colab": {
          "base_uri": "https://localhost:8080/"
        },
        "id": "PxTTKs3bt0ZB",
        "outputId": "9d78eade-f42d-4ee9-d61c-7aadb2f98a25"
      },
      "outputs": [
        {
          "data": {
            "text/plain": [
              "False"
            ]
          },
          "execution_count": 12,
          "metadata": {},
          "output_type": "execute_result"
        }
      ],
      "source": [
        "is_backdoor_adjustement_set(G, X = \"SOD\", Y = \"SBP\", Z = set())"
      ]
    },
    {
      "cell_type": "markdown",
      "metadata": {
        "id": "276C9Ge-tec9"
      },
      "source": [
        "Let's check if $Z = \\{ AGE, PRO \\}$ is a backdoor adjustment set:"
      ]
    },
    {
      "cell_type": "code",
      "execution_count": 13,
      "metadata": {
        "colab": {
          "base_uri": "https://localhost:8080/"
        },
        "id": "kvByhmQPtec9",
        "outputId": "7dc8f429-8fb4-46ba-88bf-2a4746c273cf"
      },
      "outputs": [
        {
          "data": {
            "text/plain": [
              "False"
            ]
          },
          "execution_count": 13,
          "metadata": {},
          "output_type": "execute_result"
        }
      ],
      "source": [
        "is_backdoor_adjustement_set(G, X = \"SOD\", Y = \"SBP\", Z = {\"AGE\", \"PRO\"})"
      ]
    },
    {
      "cell_type": "markdown",
      "metadata": {
        "id": "iFGxjJXctec9"
      },
      "source": [
        "Indeed, we add bias by conditioning on $PRO$ since it is a collider. Let's check if $Z$ **without** $PRO$ is a backdoor adjustment set:"
      ]
    },
    {
      "cell_type": "code",
      "execution_count": 14,
      "metadata": {
        "colab": {
          "base_uri": "https://localhost:8080/"
        },
        "id": "OgfpK9hNtec-",
        "outputId": "aef90bab-0ebc-4ee3-a2b6-0cad55a99144"
      },
      "outputs": [
        {
          "data": {
            "text/plain": [
              "True"
            ]
          },
          "execution_count": 14,
          "metadata": {},
          "output_type": "execute_result"
        }
      ],
      "source": [
        "is_backdoor_adjustement_set(G, X = \"SOD\", Y = \"SBP\", Z = {\"AGE\"})"
      ]
    },
    {
      "cell_type": "markdown",
      "metadata": {
        "id": "0DEFXYIxtec-"
      },
      "source": [
        "The estimated ACE adjusting for AGE alone is:"
      ]
    },
    {
      "cell_type": "code",
      "execution_count": 15,
      "metadata": {
        "colab": {
          "base_uri": "https://localhost:8080/",
          "height": 35
        },
        "id": "deYLBXa2tec-",
        "outputId": "600e1965-1ec1-4683-fefc-c7695f886a0f"
      },
      "outputs": [
        {
          "data": {
            "application/vnd.google.colaboratory.intrinsic+json": {
              "type": "string"
            },
            "text/plain": [
              "'Estimated ACE: 1.052, Relative Error: 0.2269%'"
            ]
          },
          "execution_count": 15,
          "metadata": {},
          "output_type": "execute_result"
        }
      ],
      "source": [
        "t = ACE(data, X = \"SOD\", Y = \"SBP\", Z = {\"AGE\"})\n",
        "f\"Estimated ACE: {t:.4}, Relative Error: {(np.abs((t-ace)/ace*100)):.4}%\""
      ]
    },
    {
      "cell_type": "markdown",
      "metadata": {
        "id": "Gm2VWaQetec-"
      },
      "source": [
        "## Conclusions"
      ]
    },
    {
      "cell_type": "markdown",
      "metadata": {
        "id": "oh7HxLpVtec-"
      },
      "source": [
        "Applying a naive regression model without adjustment leads to an estimated ACE which is four times off. A regression model with an adjustment set reduce the relative error to 18%. Instead, using a **backdoor** adjustment set lowered it to 0.2%."
      ]
    }
  ],
  "metadata": {
    "colab": {
      "name": "structural_causal_models.ipynb",
      "provenance": []
    },
    "kernelspec": {
      "display_name": "Python 3",
      "language": "python",
      "name": "python3"
    },
    "language_info": {
      "codemirror_mode": {
        "name": "ipython",
        "version": 3
      },
      "file_extension": ".py",
      "mimetype": "text/x-python",
      "name": "python",
      "nbconvert_exporter": "python",
      "pygments_lexer": "ipython3",
      "version": "3.8.5"
    }
  },
  "nbformat": 4,
  "nbformat_minor": 0
}
