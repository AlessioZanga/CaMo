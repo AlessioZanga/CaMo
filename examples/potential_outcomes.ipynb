{
 "cells": [
  {
   "cell_type": "code",
   "execution_count": 1,
   "metadata": {},
   "outputs": [],
   "source": [
    "%%capture\n",
    "!pip install networkx numpy pandas statsmodels"
   ]
  },
  {
   "cell_type": "code",
   "execution_count": 2,
   "metadata": {},
   "outputs": [],
   "source": [
    "import networkx as nx\n",
    "import numpy as np\n",
    "import pandas as pd\n",
    "import statsmodels.api as sm\n",
    "from typing import Set"
   ]
  },
  {
   "cell_type": "markdown",
   "metadata": {},
   "source": [
    "# Potential Outcomes"
   ]
  },
  {
   "cell_type": "markdown",
   "metadata": {},
   "source": [
    "By Alessio Zanga and Fabio Stella"
   ]
  },
  {
   "cell_type": "markdown",
   "metadata": {},
   "source": [
    "## Abstract"
   ]
  },
  {
   "cell_type": "markdown",
   "metadata": {},
   "source": [
    "This notebook illustrates a step-by-step example on estimating the average causal effect (ACE) of sodium on blood pressure following [Luque-Fernandez et al. (2018)](https://academic.oup.com/ije/article/48/2/640/5248195). The main focus of this work is to highlight the differences between a naive estimate and the adjusted estimate."
   ]
  },
  {
   "cell_type": "markdown",
   "metadata": {},
   "source": [
    "## Introduction"
   ]
  },
  {
   "cell_type": "markdown",
   "metadata": {},
   "source": [
    "Exceeding the recommendations for 24-h dietary **sodium** (SOD) intake is associated with increased levels of **systolic blood pressure** (SBP). Furthermore, with advancing **age**, the adaptive mechanism responsible for maintaining the composition and volume of the extracellular fluid is compromised. Age is a common cause of both high systolic blood pressure and impaired sodium homeostasis, acting as a confounder. However, high levels of 24-h excretion of **urinary protein** (PRO) are caused by sustained high SBP and increased dietary SOD, acting as a collider."
   ]
  },
  {
   "cell_type": "code",
   "execution_count": 3,
   "metadata": {},
   "outputs": [
    {
     "data": {
      "image/png": "[encoded data removed]",
      "text/plain": [
       "<Figure size 432x288 with 1 Axes>"
      ]
     },
     "metadata": {},
     "output_type": "display_data"
    }
   ],
   "source": [
    "G = nx.DiGraph()\n",
    "G.add_edges_from([(\"SOD\", \"SBP\"), (\"AGE\", \"SOD\"), (\"AGE\", \"SBP\"), (\"SOD\", \"PRO\"), (\"SBP\", \"PRO\")])\n",
    "nx.draw_circular(G, node_size=1000, node_color=\"white\", with_labels=True)"
   ]
  },
  {
   "cell_type": "markdown",
   "metadata": {},
   "source": [
    "Assuming **linear relationships** between the variables and **gaussian noise**, a data generation process that is consistent with the represented causal graph follows directly."
   ]
  },
  {
   "cell_type": "code",
   "execution_count": 4,
   "metadata": {},
   "outputs": [],
   "source": [
    "def sample_data(size: int = int(1e6), seed: int = 31):\n",
    "    # Set random generator seed for results reproducibility\n",
    "    np.random.seed(seed)\n",
    "    # Sample age with mean 65 and std 5\n",
    "    age = np.random.normal(65, 5, size)\n",
    "    # Sample sodium with additive noise\n",
    "    sod = 0.056 * age + np.random.normal(0, 1, size)\n",
    "    # Binarize sodium following cutoff\n",
    "    sod = (sod > 3.5).astype(int)\n",
    "    # Sample systolic blood pressure\n",
    "    sbp = 1.05 * sod + 2 * age + np.random.normal(0, 1, size)\n",
    "    # Sample urinary protein\n",
    "    pro = 0.4 * sod + 0.3 * sbp + np.random.normal(0, 1, size)\n",
    "    # Create a dataframe from sampled variables\n",
    "    return pd.DataFrame({\"AGE\": age, \"SOD\": sod, \"SBP\": sbp, \"PRO\": pro})"
   ]
  },
  {
   "cell_type": "markdown",
   "metadata": {},
   "source": [
    "Here, the true ACE is given by the coefficient 1.05 that assign SBP a value given SOD."
   ]
  },
  {
   "cell_type": "code",
   "execution_count": 5,
   "metadata": {},
   "outputs": [
    {
     "data": {
      "text/html": [
       "<div>\n",
       "<style scoped>\n",
       "    .dataframe tbody tr th:only-of-type {\n",
       "        vertical-align: middle;\n",
       "    }\n",
       "\n",
       "    .dataframe tbody tr th {\n",
       "        vertical-align: top;\n",
       "    }\n",
       "\n",
       "    .dataframe thead th {\n",
       "        text-align: right;\n",
       "    }\n",
       "</style>\n",
       "<table border=\"1\" class=\"dataframe\">\n",
       "  <thead>\n",
       "    <tr style=\"text-align: right;\">\n",
       "      <th></th>\n",
       "      <th>AGE</th>\n",
       "      <th>SOD</th>\n",
       "      <th>SBP</th>\n",
       "      <th>PRO</th>\n",
       "    </tr>\n",
       "  </thead>\n",
       "  <tbody>\n",
       "    <tr>\n",
       "      <th>count</th>\n",
       "      <td>1000000.000000</td>\n",
       "      <td>1000000.000000</td>\n",
       "      <td>1000000.000000</td>\n",
       "      <td>1000000.000000</td>\n",
       "    </tr>\n",
       "    <tr>\n",
       "      <th>mean</th>\n",
       "      <td>65.001134</td>\n",
       "      <td>0.552995</td>\n",
       "      <td>130.583161</td>\n",
       "      <td>39.396720</td>\n",
       "    </tr>\n",
       "    <tr>\n",
       "      <th>std</th>\n",
       "      <td>4.993518</td>\n",
       "      <td>0.497184</td>\n",
       "      <td>10.161539</td>\n",
       "      <td>3.263477</td>\n",
       "    </tr>\n",
       "    <tr>\n",
       "      <th>min</th>\n",
       "      <td>40.964418</td>\n",
       "      <td>0.000000</td>\n",
       "      <td>82.816817</td>\n",
       "      <td>24.421988</td>\n",
       "    </tr>\n",
       "    <tr>\n",
       "      <th>25%</th>\n",
       "      <td>61.627703</td>\n",
       "      <td>0.000000</td>\n",
       "      <td>123.720103</td>\n",
       "      <td>37.190745</td>\n",
       "    </tr>\n",
       "    <tr>\n",
       "      <th>50%</th>\n",
       "      <td>65.009236</td>\n",
       "      <td>1.000000</td>\n",
       "      <td>130.597297</td>\n",
       "      <td>39.402344</td>\n",
       "    </tr>\n",
       "    <tr>\n",
       "      <th>75%</th>\n",
       "      <td>68.372794</td>\n",
       "      <td>1.000000</td>\n",
       "      <td>137.445514</td>\n",
       "      <td>41.602773</td>\n",
       "    </tr>\n",
       "    <tr>\n",
       "      <th>max</th>\n",
       "      <td>87.717317</td>\n",
       "      <td>1.000000</td>\n",
       "      <td>176.708462</td>\n",
       "      <td>54.573313</td>\n",
       "    </tr>\n",
       "  </tbody>\n",
       "</table>\n",
       "</div>"
      ],
      "text/plain": [
       "                  AGE             SOD             SBP             PRO\n",
       "count  1000000.000000  1000000.000000  1000000.000000  1000000.000000\n",
       "mean        65.001134        0.552995      130.583161       39.396720\n",
       "std          4.993518        0.497184       10.161539        3.263477\n",
       "min         40.964418        0.000000       82.816817       24.421988\n",
       "25%         61.627703        0.000000      123.720103       37.190745\n",
       "50%         65.009236        1.000000      130.597297       39.402344\n",
       "75%         68.372794        1.000000      137.445514       41.602773\n",
       "max         87.717317        1.000000      176.708462       54.573313"
      ]
     },
     "execution_count": 5,
     "metadata": {},
     "output_type": "execute_result"
    }
   ],
   "source": [
    "data = sample_data()\n",
    "data.describe()"
   ]
  },
  {
   "cell_type": "markdown",
   "metadata": {},
   "source": [
    "## Methods"
   ]
  },
  {
   "cell_type": "markdown",
   "metadata": {},
   "source": [
    "Assuming consistency, positivity, and unconfoundedness, the average causal effect (ACE) is defined:"
   ]
  },
  {
   "cell_type": "markdown",
   "metadata": {},
   "source": [
    "$\\tau = \\mathbb{E}[Y(1) - Y(0)] = \\mathbb{E}_\\textbf{Z}[\\mathbb{E}[Y(1) - Y(0)|\\textbf{Z}]] = \\mathbb{E}_\\textbf{Z}[\\mathbb{E}[Y|X=1,\\textbf{Z}] - \\mathbb{E}[Y|X=0,\\textbf{Z}]]$"
   ]
  },
  {
   "cell_type": "markdown",
   "metadata": {},
   "source": [
    "Replacing expectations with empirical mean:"
   ]
  },
  {
   "cell_type": "markdown",
   "metadata": {},
   "source": [
    "$\\hat{\\tau} = \\frac{1}{n} \\sum_{i=1}^{n} \\mathbb{E}_\\textbf{Z}[\\mathbb{E}[Y|X=1,\\textbf{Z}=\\mathbf{z_{i}}] - \\mathbb{E}[Y|X=0,\\textbf{Z}=\\mathbf{z_{i}}]]$"
   ]
  },
  {
   "cell_type": "markdown",
   "metadata": {},
   "source": [
    "It is possible to choose any machine learning model for $\\mathbb{E}[Y|X,\\textbf{Z}]$, such as a linear regression model, which works out nicely since blood pressure is generated as a linear combination of other variables."
   ]
  },
  {
   "cell_type": "code",
   "execution_count": 6,
   "metadata": {},
   "outputs": [],
   "source": [
    "def ACE(data: pd.DataFrame, X: str, Y: str, Z: Set[str]):\n",
    "    # Define the regresion model formula\n",
    "    formula = f\"{Y} ~ {X}\"\n",
    "    if len(Z) != 0: formula += \"+\" + \"+\".join(Z)\n",
    "    # Fit Ordinary Least Square regression model\n",
    "    estimator = sm.OLS.from_formula(formula, data).fit()\n",
    "    # Compute potential outcomes by fixing X\n",
    "    Y1 = estimator.predict(data.assign(**{X: 1}))\n",
    "    Y0 = estimator.predict(data.assign(**{X: 0}))\n",
    "    # Compute average causal effect\n",
    "    return np.mean(Y1 - Y0)"
   ]
  },
  {
   "cell_type": "markdown",
   "metadata": {},
   "source": [
    "## Results"
   ]
  },
  {
   "cell_type": "markdown",
   "metadata": {},
   "source": [
    "The true ACE is:"
   ]
  },
  {
   "cell_type": "code",
   "execution_count": 7,
   "metadata": {},
   "outputs": [],
   "source": [
    "ace = 1.05"
   ]
  },
  {
   "cell_type": "markdown",
   "metadata": {},
   "source": [
    "The estimated ACE adjusting for AGE and PRO is:"
   ]
  },
  {
   "cell_type": "code",
   "execution_count": 8,
   "metadata": {},
   "outputs": [
    {
     "data": {
      "text/plain": [
       "'Estimated ACE: 0.856, Relative Error: 18.46%'"
      ]
     },
     "execution_count": 8,
     "metadata": {},
     "output_type": "execute_result"
    }
   ],
   "source": [
    "t = ACE(data, X = \"SOD\", Y = \"SBP\", Z = [\"AGE\", \"PRO\"])\n",
    "f\"Estimated ACE: {t:.3}, Relative Error: {(np.abs((t-ace)/ace*100)):.4}%\""
   ]
  },
  {
   "cell_type": "markdown",
   "metadata": {},
   "source": [
    "While the naive estimated ACE without adjustment is:"
   ]
  },
  {
   "cell_type": "code",
   "execution_count": 9,
   "metadata": {},
   "outputs": [
    {
     "data": {
      "text/plain": [
       "'Estimated ACE: 5.37, Relative Error: 411.5%'"
      ]
     },
     "execution_count": 9,
     "metadata": {},
     "output_type": "execute_result"
    }
   ],
   "source": [
    "t = ACE(data, X = \"SOD\", Y = \"SBP\", Z = [])\n",
    "f\"Estimated ACE: {t:.3}, Relative Error: {(np.abs((t-ace)/ace*100)):.4}%\""
   ]
  },
  {
   "cell_type": "markdown",
   "metadata": {},
   "source": [
    "## Conclusions"
   ]
  },
  {
   "cell_type": "markdown",
   "metadata": {},
   "source": [
    "Applying a naive regression model without adjustment leads to an estimated ACE which is four times off. A regression model with a valid adjustment set reduce the relative error to only 19%."
   ]
  }
 ],
 "metadata": {
  "kernelspec": {
   "display_name": "Python 3",
   "language": "python",
   "name": "python3"
  },
  "language_info": {
   "codemirror_mode": {
    "name": "ipython",
    "version": 3
   },
   "file_extension": ".py",
   "mimetype": "text/x-python",
   "name": "python",
   "nbconvert_exporter": "python",
   "pygments_lexer": "ipython3",
   "version": "3.8.5"
  }
 },
 "nbformat": 4,
 "nbformat_minor": 4
}
