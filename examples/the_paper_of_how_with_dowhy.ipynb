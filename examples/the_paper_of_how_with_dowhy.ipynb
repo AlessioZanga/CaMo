{
 "cells": [
  {
   "cell_type": "code",
   "execution_count": 1,
   "metadata": {},
   "outputs": [],
   "source": [
    "%%capture\n",
    "!pip install dowhy numpy networkx"
   ]
  },
  {
   "cell_type": "code",
   "execution_count": 2,
   "metadata": {},
   "outputs": [],
   "source": [
    "import warnings\n",
    "warnings.filterwarnings(\"ignore\")"
   ]
  },
  {
   "cell_type": "code",
   "execution_count": 3,
   "metadata": {},
   "outputs": [],
   "source": [
    "import dowhy\n",
    "import dowhy.api\n",
    "import dowhy.datasets\n",
    "import dowhy.plotter\n",
    "import numpy as np\n",
    "import networkx as nx\n",
    "from dowhy.causal_estimators.linear_regression_estimator import LinearRegressionEstimator"
   ]
  },
  {
   "cell_type": "markdown",
   "metadata": {},
   "source": [
    "# The Paper of How with DoWhy"
   ]
  },
  {
   "cell_type": "markdown",
   "metadata": {},
   "source": [
    "By Alessio Zanga and Fabio Stella"
   ]
  },
  {
   "cell_type": "markdown",
   "metadata": {},
   "source": [
    "## Abstract"
   ]
  },
  {
   "cell_type": "markdown",
   "metadata": {},
   "source": [
    "This notebook explore the \"Paper of How\" using the [DoWhy](https://github.com/microsoft/dowhy) package."
   ]
  },
  {
   "cell_type": "markdown",
   "metadata": {},
   "source": [
    "## Generate a Dataset"
   ]
  },
  {
   "cell_type": "markdown",
   "metadata": {},
   "source": [
    "Set the random seed generator for result reproducibility."
   ]
  },
  {
   "cell_type": "code",
   "execution_count": 4,
   "metadata": {},
   "outputs": [],
   "source": [
    "np.random.seed(31)"
   ]
  },
  {
   "cell_type": "markdown",
   "metadata": {},
   "source": [
    "DoWhy allows the generation of a dataset by specifying a set of parameters."
   ]
  },
  {
   "cell_type": "code",
   "execution_count": 5,
   "metadata": {},
   "outputs": [
    {
     "data": {
      "text/plain": [
       "['df',\n",
       " 'treatment_name',\n",
       " 'outcome_name',\n",
       " 'common_causes_names',\n",
       " 'instrument_names',\n",
       " 'effect_modifier_names',\n",
       " 'frontdoor_variables_names',\n",
       " 'dot_graph',\n",
       " 'gml_graph',\n",
       " 'ate']"
      ]
     },
     "execution_count": 5,
     "metadata": {},
     "output_type": "execute_result"
    }
   ],
   "source": [
    "data = dowhy.datasets.linear_dataset(\n",
    "    beta = 3,\n",
    "    num_samples = int(1e4),\n",
    "    num_common_causes = 0,             # No observed confounder\n",
    "    num_frontdoor_variables = 1,       # Add a front-door variable\n",
    "    treatment_is_binary = True,\n",
    "    outcome_is_binary = False\n",
    ")\n",
    "list(data.keys())"
   ]
  },
  {
   "cell_type": "markdown",
   "metadata": {},
   "source": [
    "It will return a dictionary with a Pandas DataFrame, along with a set of variables names and the true causal graph used for the sampling process."
   ]
  },
  {
   "cell_type": "code",
   "execution_count": 6,
   "metadata": {},
   "outputs": [],
   "source": [
    "D, [X], Y, _, _, _, [M], _, G, ace = data.values()"
   ]
  },
  {
   "cell_type": "markdown",
   "metadata": {},
   "source": [
    "After unpacking the values of the dictionary, it is possible to observe the assigned names to the data columns:"
   ]
  },
  {
   "cell_type": "code",
   "execution_count": 7,
   "metadata": {},
   "outputs": [
    {
     "data": {
      "text/plain": [
       "('v0', 'FD0', 'y')"
      ]
     },
     "execution_count": 7,
     "metadata": {},
     "output_type": "execute_result"
    }
   ],
   "source": [
    "X, M, Y"
   ]
  },
  {
   "cell_type": "markdown",
   "metadata": {},
   "source": [
    "Graph is encoded in GML format:"
   ]
  },
  {
   "cell_type": "code",
   "execution_count": 8,
   "metadata": {},
   "outputs": [
    {
     "data": {
      "text/plain": [
       "'graph[directed 1node[ id \"y\" label \"y\"]node[ id \"Unobserved Confounders\" label \"Unobserved Confounders\"]edge[source \"Unobserved Confounders\" target \"y\"]node[ id \"FD0\" label \"FD0\"]node[ id \"v0\" label \"v0\"]edge[source \"Unobserved Confounders\" target \"v0\"]edge[ source \"v0\" target \"FD0\"]edge[ source \"FD0\" target \"y\"]]'"
      ]
     },
     "execution_count": 8,
     "metadata": {},
     "output_type": "execute_result"
    }
   ],
   "source": [
    "G"
   ]
  },
  {
   "cell_type": "markdown",
   "metadata": {},
   "source": [
    "Dataset is a standard Pandas DataFrame:"
   ]
  },
  {
   "cell_type": "code",
   "execution_count": 9,
   "metadata": {},
   "outputs": [
    {
     "data": {
      "text/html": [
       "<div>\n",
       "<style scoped>\n",
       "    .dataframe tbody tr th:only-of-type {\n",
       "        vertical-align: middle;\n",
       "    }\n",
       "\n",
       "    .dataframe tbody tr th {\n",
       "        vertical-align: top;\n",
       "    }\n",
       "\n",
       "    .dataframe thead th {\n",
       "        text-align: right;\n",
       "    }\n",
       "</style>\n",
       "<table border=\"1\" class=\"dataframe\">\n",
       "  <thead>\n",
       "    <tr style=\"text-align: right;\">\n",
       "      <th></th>\n",
       "      <th>FD0</th>\n",
       "      <th>v0</th>\n",
       "      <th>y</th>\n",
       "    </tr>\n",
       "  </thead>\n",
       "  <tbody>\n",
       "    <tr>\n",
       "      <th>0</th>\n",
       "      <td>-0.511649</td>\n",
       "      <td>True</td>\n",
       "      <td>-0.649035</td>\n",
       "    </tr>\n",
       "    <tr>\n",
       "      <th>1</th>\n",
       "      <td>-0.742863</td>\n",
       "      <td>False</td>\n",
       "      <td>-0.929083</td>\n",
       "    </tr>\n",
       "    <tr>\n",
       "      <th>2</th>\n",
       "      <td>-0.127294</td>\n",
       "      <td>False</td>\n",
       "      <td>-0.157401</td>\n",
       "    </tr>\n",
       "    <tr>\n",
       "      <th>3</th>\n",
       "      <td>0.800696</td>\n",
       "      <td>True</td>\n",
       "      <td>0.993552</td>\n",
       "    </tr>\n",
       "    <tr>\n",
       "      <th>4</th>\n",
       "      <td>-0.435988</td>\n",
       "      <td>False</td>\n",
       "      <td>-0.565250</td>\n",
       "    </tr>\n",
       "    <tr>\n",
       "      <th>...</th>\n",
       "      <td>...</td>\n",
       "      <td>...</td>\n",
       "      <td>...</td>\n",
       "    </tr>\n",
       "    <tr>\n",
       "      <th>9995</th>\n",
       "      <td>2.927993</td>\n",
       "      <td>True</td>\n",
       "      <td>3.714110</td>\n",
       "    </tr>\n",
       "    <tr>\n",
       "      <th>9996</th>\n",
       "      <td>0.890986</td>\n",
       "      <td>True</td>\n",
       "      <td>1.128931</td>\n",
       "    </tr>\n",
       "    <tr>\n",
       "      <th>9997</th>\n",
       "      <td>0.937298</td>\n",
       "      <td>True</td>\n",
       "      <td>1.193908</td>\n",
       "    </tr>\n",
       "    <tr>\n",
       "      <th>9998</th>\n",
       "      <td>1.038223</td>\n",
       "      <td>True</td>\n",
       "      <td>1.323971</td>\n",
       "    </tr>\n",
       "    <tr>\n",
       "      <th>9999</th>\n",
       "      <td>-0.163673</td>\n",
       "      <td>False</td>\n",
       "      <td>-0.206201</td>\n",
       "    </tr>\n",
       "  </tbody>\n",
       "</table>\n",
       "<p>10000 rows × 3 columns</p>\n",
       "</div>"
      ],
      "text/plain": [
       "           FD0     v0         y\n",
       "0    -0.511649   True -0.649035\n",
       "1    -0.742863  False -0.929083\n",
       "2    -0.127294  False -0.157401\n",
       "3     0.800696   True  0.993552\n",
       "4    -0.435988  False -0.565250\n",
       "...        ...    ...       ...\n",
       "9995  2.927993   True  3.714110\n",
       "9996  0.890986   True  1.128931\n",
       "9997  0.937298   True  1.193908\n",
       "9998  1.038223   True  1.323971\n",
       "9999 -0.163673  False -0.206201\n",
       "\n",
       "[10000 rows x 3 columns]"
      ]
     },
     "execution_count": 9,
     "metadata": {},
     "output_type": "execute_result"
    }
   ],
   "source": [
    "D"
   ]
  },
  {
   "cell_type": "markdown",
   "metadata": {},
   "source": [
    "It also return the true average causal effect:"
   ]
  },
  {
   "cell_type": "code",
   "execution_count": 10,
   "metadata": {},
   "outputs": [
    {
     "data": {
      "image/png": "[encoded data removed]",
      "text/latex": [
       "$\\displaystyle 1.79996091958797$"
      ],
      "text/plain": [
       "1.79996091958797"
      ]
     },
     "execution_count": 10,
     "metadata": {},
     "output_type": "execute_result"
    }
   ],
   "source": [
    "ace"
   ]
  },
  {
   "cell_type": "markdown",
   "metadata": {},
   "source": [
    "## Construct a Model"
   ]
  },
  {
   "cell_type": "markdown",
   "metadata": {},
   "source": [
    "The second step consists in constructing a causal model using the true graph."
   ]
  },
  {
   "cell_type": "code",
   "execution_count": 11,
   "metadata": {},
   "outputs": [],
   "source": [
    "model = dowhy.CausalModel(\n",
    "    data = D,\n",
    "    treatment = X,\n",
    "    outcome = Y,\n",
    "    graph = G\n",
    ")"
   ]
  },
  {
   "cell_type": "markdown",
   "metadata": {},
   "source": [
    "It is not a proper SCM as we seen in previous sessions. It is more like a container for the data and the graph."
   ]
  },
  {
   "cell_type": "code",
   "execution_count": 12,
   "metadata": {},
   "outputs": [
    {
     "data": {
      "image/png": "[encoded data removed]",
      "text/plain": [
       "<IPython.core.display.Image object>"
      ]
     },
     "metadata": {},
     "output_type": "display_data"
    }
   ],
   "source": [
    "model.view_model(layout=\"dot\")\n",
    "# from IPython.display import Image, display    # Run these lines if you are on local.\n",
    "# display(Image(filename=\"causal_model.png\"))"
   ]
  },
  {
   "cell_type": "markdown",
   "metadata": {},
   "source": [
    "This will enable the identification step by using a couple of handful methods."
   ]
  },
  {
   "cell_type": "markdown",
   "metadata": {},
   "source": [
    "## Identify the Estimand"
   ]
  },
  {
   "cell_type": "markdown",
   "metadata": {},
   "source": [
    "The estimand identification tests for both backdoor and frontdoor criterion."
   ]
  },
  {
   "cell_type": "code",
   "execution_count": 13,
   "metadata": {},
   "outputs": [
    {
     "name": "stdout",
     "output_type": "stream",
     "text": [
      "Estimand type: nonparametric-ate\n",
      "\n",
      "### Estimand : 1\n",
      "Estimand name: backdoor\n",
      "Estimand expression:\n",
      "  d                  \n",
      "─────(Expectation(y))\n",
      "d[v₀]                \n",
      "Estimand assumption 1, Unconfoundedness: If U→{v0} and U→y then P(y|v0,,U) = P(y|v0,)\n",
      "\n",
      "### Estimand : 2\n",
      "Estimand name: iv\n",
      "No such variable found!\n",
      "\n",
      "### Estimand : 3\n",
      "Estimand name: frontdoor\n",
      "Estimand expression:\n",
      "Expectation(Derivative(y, [FD0])*Derivative([FD0], [v0]))\n",
      "Estimand assumption 1, Full-mediation: FD0 intercepts (blocks) all directed paths from v0 to y.\n",
      "Estimand assumption 2, First-stage-unconfoundedness: If U→{v0} and U→{FD0} then P(FD0|v0,U) = P(FD0|v0)\n",
      "Estimand assumption 3, Second-stage-unconfoundedness: If U→{FD0} and U→y then P(y|FD0, v0, U) = P(y|FD0, v0)\n",
      "\n"
     ]
    }
   ],
   "source": [
    "estimand = model.identify_effect(proceed_when_unidentifiable=True)\n",
    "print(estimand)"
   ]
  },
  {
   "cell_type": "markdown",
   "metadata": {},
   "source": [
    "## Estimate the Average Causal Effect"
   ]
  },
  {
   "cell_type": "markdown",
   "metadata": {},
   "source": [
    "Once the estimand has been identified, we can proceed to the last estimation step."
   ]
  },
  {
   "cell_type": "markdown",
   "metadata": {},
   "source": [
    "The front-door criterion employs a two-stage (linear, in this example) estimator:\n",
    "\n",
    "First stage estimator: $$M = \\alpha \\cdot X + \\beta$$\n",
    "Second stage estimator: $$Y = \\gamma \\cdot M + \\delta \\cdot X + \\epsilon$$"
   ]
  },
  {
   "cell_type": "code",
   "execution_count": 14,
   "metadata": {},
   "outputs": [],
   "source": [
    "estimate = model.estimate_effect(\n",
    "    estimand,\n",
    "    method_name = \"frontdoor.two_stage_regression\",\n",
    "    method_params = {\n",
    "        \"first_stage_model\": LinearRegressionEstimator,\n",
    "        \"second_stage_model\": LinearRegressionEstimator\n",
    "    }\n",
    ")"
   ]
  },
  {
   "cell_type": "code",
   "execution_count": 15,
   "metadata": {},
   "outputs": [
    {
     "name": "stdout",
     "output_type": "stream",
     "text": [
      "Estimation Method: TwoStageRegression,\n",
      "Estimated ACE: 1.775,\n",
      "Relative Error: 1.375%\n",
      "\n"
     ]
    }
   ],
   "source": [
    "print(f\"\"\"\n",
    "Estimation Method: TwoStageRegression,\n",
    "Estimated ACE: {estimate.value:.4},\n",
    "Relative Error: {(abs((estimate.value-ace)/ace*100)):.4}%\n",
    "\"\"\".lstrip(\"\\n\"))"
   ]
  },
  {
   "cell_type": "markdown",
   "metadata": {},
   "source": [
    "## Evaluate the Results"
   ]
  },
  {
   "cell_type": "markdown",
   "metadata": {},
   "source": [
    "With the estimates obtained we can setup a round of hypothesis testing."
   ]
  },
  {
   "cell_type": "code",
   "execution_count": 16,
   "metadata": {},
   "outputs": [],
   "source": [
    "refuters = [\n",
    "    \"bootstrap_refuter\",\n",
    "    \"data_subset_refuter\",\n",
    "    # NOTE: Not implemented for front-door yet.\n",
    "    # \"dummy_outcome_refuter\",\n",
    "    # \"placebo_treatment_refuter\",\n",
    "    # \"random_common_cause\",\n",
    "]"
   ]
  },
  {
   "cell_type": "markdown",
   "metadata": {},
   "source": [
    "We will test against the estimate."
   ]
  },
  {
   "cell_type": "code",
   "execution_count": 17,
   "metadata": {},
   "outputs": [],
   "source": [
    "refuters = {\n",
    "    refuter: model.refute_estimate(estimand, estimate, method_name=refuter)\n",
    "    for refuter in refuters\n",
    "}"
   ]
  },
  {
   "cell_type": "markdown",
   "metadata": {},
   "source": [
    "Some \"refuters\", as they are called in DoWhy, may return a list of tests."
   ]
  },
  {
   "cell_type": "code",
   "execution_count": 18,
   "metadata": {},
   "outputs": [
    {
     "name": "stdout",
     "output_type": "stream",
     "text": [
      "Refute: Bootstrap Sample Dataset\n",
      "Estimated effect:1.7752106198030266\n",
      "New effect:1.7738055406149422\n",
      "p value:0.47\n",
      "\n",
      "Refute: Use a subset of data\n",
      "Estimated effect:1.7752106198030266\n",
      "New effect:1.7733230087592196\n",
      "p value:0.44999999999999996\n",
      "\n"
     ]
    }
   ],
   "source": [
    "for refuter in refuters.values():\n",
    "    print(refuter if type(refuter) != list else refuter[0])"
   ]
  },
  {
   "cell_type": "markdown",
   "metadata": {},
   "source": [
    "Your results may vary. Try to experiment with different graph configurations by altering the numbers of variables in the generation step.\n",
    "\n",
    "Have fun!"
   ]
  }
 ],
 "metadata": {
  "kernelspec": {
   "display_name": "Python 3",
   "language": "python",
   "name": "python3"
  },
  "language_info": {
   "codemirror_mode": {
    "name": "ipython",
    "version": 3
   },
   "file_extension": ".py",
   "mimetype": "text/x-python",
   "name": "python",
   "nbconvert_exporter": "python",
   "pygments_lexer": "ipython3",
   "version": "3.8.10"
  }
 },
 "nbformat": 4,
 "nbformat_minor": 4
}
