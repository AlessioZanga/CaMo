{
 "cells": [
  {
   "cell_type": "markdown",
   "metadata": {},
   "source": [
    "# System Setup"
   ]
  },
  {
   "cell_type": "markdown",
   "metadata": {},
   "source": [
    "Install system development libraries."
   ]
  },
  {
   "cell_type": "code",
   "execution_count": 1,
   "metadata": {},
   "outputs": [],
   "source": [
    "%%capture\n",
    "!add-apt-repository -y ppa:dns/gnu\n",
    "!apt-get update\n",
    "!apt-get install -y libgsl-dev"
   ]
  },
  {
   "cell_type": "markdown",
   "metadata": {},
   "source": [
    "Installing CDT."
   ]
  },
  {
   "cell_type": "code",
   "execution_count": 2,
   "metadata": {},
   "outputs": [],
   "source": [
    "%%capture\n",
    "!pip install cdt"
   ]
  },
  {
   "cell_type": "markdown",
   "metadata": {},
   "source": [
    "Loading R extension for Jupyter Lab."
   ]
  },
  {
   "cell_type": "code",
   "execution_count": 3,
   "metadata": {},
   "outputs": [],
   "source": [
    "%load_ext rpy2.ipython"
   ]
  },
  {
   "cell_type": "markdown",
   "metadata": {},
   "source": [
    "Installing R packages required by CDT. It should take around five minutes..."
   ]
  },
  {
   "cell_type": "code",
   "execution_count": 4,
   "metadata": {},
   "outputs": [],
   "source": [
    "%%capture\n",
    "%%R\n",
    "options(Ncpus = parallel::detectCores())\n",
    "install.packages(c(\"devtools\", \"BiocManager\"))\n",
    "BiocManager::install(c(\"pcalg\", \"kpcalg\", \"SID\"), ask = FALSE)\n",
    "devtools::install_github(\"Diviyan-Kalainathan/RCIT\")"
   ]
  },
  {
   "cell_type": "markdown",
   "metadata": {},
   "source": [
    "Disabling warnings."
   ]
  },
  {
   "cell_type": "code",
   "execution_count": 5,
   "metadata": {},
   "outputs": [],
   "source": [
    "import warnings\n",
    "warnings.filterwarnings(\"ignore\")"
   ]
  },
  {
   "cell_type": "markdown",
   "metadata": {},
   "source": [
    "Importing packages."
   ]
  },
  {
   "cell_type": "code",
   "execution_count": 6,
   "metadata": {},
   "outputs": [],
   "source": [
    "import cdt\n",
    "import networkx as nx"
   ]
  },
  {
   "cell_type": "markdown",
   "metadata": {},
   "source": [
    "# Causal Discovery with the Toolbox (CDT)"
   ]
  },
  {
   "cell_type": "markdown",
   "metadata": {},
   "source": [
    "By Alessio Zanga & Fabio Stella"
   ]
  },
  {
   "cell_type": "markdown",
   "metadata": {},
   "source": [
    "## Abstract"
   ]
  },
  {
   "cell_type": "markdown",
   "metadata": {},
   "source": [
    "This notebook represents a quick-start guide to causal discovery using the Causal Discovery Toolbox package."
   ]
  },
  {
   "cell_type": "markdown",
   "metadata": {},
   "source": [
    "## Generate a Dataset"
   ]
  },
  {
   "cell_type": "markdown",
   "metadata": {},
   "source": [
    "Import a dataset generator."
   ]
  },
  {
   "cell_type": "code",
   "execution_count": 7,
   "metadata": {},
   "outputs": [],
   "source": [
    "from cdt.data import AcyclicGraphGenerator"
   ]
  },
  {
   "cell_type": "markdown",
   "metadata": {},
   "source": [
    "Construct the generator given input parameters."
   ]
  },
  {
   "cell_type": "code",
   "execution_count": 8,
   "metadata": {},
   "outputs": [],
   "source": [
    "generator = AcyclicGraphGenerator(\n",
    "    causal_mechanism = 'linear',   # Type of functions in the functional set F (see Structural Causal Models).\n",
    "    noise = 'gaussian',            # Type of noise terms of the set of hidden variables U.\n",
    "    nodes = 10,                    # Cardinality of the set of observed variables V.\n",
    "    parents_max = 2,               # Max number of parents per node.\n",
    "    npoints = int(1e6),            # Sample size.\n",
    ")"
   ]
  },
  {
   "cell_type": "markdown",
   "metadata": {},
   "source": [
    "Sample from the generator."
   ]
  },
  {
   "cell_type": "code",
   "execution_count": 9,
   "metadata": {},
   "outputs": [],
   "source": [
    "data, true_graph = generator.generate()"
   ]
  },
  {
   "cell_type": "markdown",
   "metadata": {},
   "source": [
    "It returns a Pandas DataFrame and a Networkx directed acyclic graph."
   ]
  },
  {
   "cell_type": "code",
   "execution_count": 10,
   "metadata": {},
   "outputs": [
    {
     "data": {
      "text/plain": [
       "(pandas.core.frame.DataFrame, networkx.classes.digraph.DiGraph)"
      ]
     },
     "execution_count": 10,
     "metadata": {},
     "output_type": "execute_result"
    }
   ],
   "source": [
    "type(data), type(true_graph)"
   ]
  },
  {
   "cell_type": "code",
   "execution_count": 11,
   "metadata": {},
   "outputs": [
    {
     "data": {
      "text/html": [
       "<div>\n",
       "<style scoped>\n",
       "    .dataframe tbody tr th:only-of-type {\n",
       "        vertical-align: middle;\n",
       "    }\n",
       "\n",
       "    .dataframe tbody tr th {\n",
       "        vertical-align: top;\n",
       "    }\n",
       "\n",
       "    .dataframe thead th {\n",
       "        text-align: right;\n",
       "    }\n",
       "</style>\n",
       "<table border=\"1\" class=\"dataframe\">\n",
       "  <thead>\n",
       "    <tr style=\"text-align: right;\">\n",
       "      <th></th>\n",
       "      <th>V0</th>\n",
       "      <th>V1</th>\n",
       "      <th>V2</th>\n",
       "      <th>V3</th>\n",
       "      <th>V4</th>\n",
       "      <th>V5</th>\n",
       "      <th>V6</th>\n",
       "      <th>V7</th>\n",
       "      <th>V8</th>\n",
       "      <th>V9</th>\n",
       "    </tr>\n",
       "  </thead>\n",
       "  <tbody>\n",
       "    <tr>\n",
       "      <th>count</th>\n",
       "      <td>1.000000e+06</td>\n",
       "      <td>1.000000e+06</td>\n",
       "      <td>1.000000e+06</td>\n",
       "      <td>1.000000e+06</td>\n",
       "      <td>1.000000e+06</td>\n",
       "      <td>1.000000e+06</td>\n",
       "      <td>1.000000e+06</td>\n",
       "      <td>1.000000e+06</td>\n",
       "      <td>1.000000e+06</td>\n",
       "      <td>1.000000e+06</td>\n",
       "    </tr>\n",
       "    <tr>\n",
       "      <th>mean</th>\n",
       "      <td>7.501058e-16</td>\n",
       "      <td>1.293472e-16</td>\n",
       "      <td>-1.086050e-15</td>\n",
       "      <td>2.544880e-16</td>\n",
       "      <td>4.477556e-16</td>\n",
       "      <td>-3.410605e-18</td>\n",
       "      <td>3.979039e-17</td>\n",
       "      <td>3.917648e-16</td>\n",
       "      <td>-4.378933e-16</td>\n",
       "      <td>-7.363781e-16</td>\n",
       "    </tr>\n",
       "    <tr>\n",
       "      <th>std</th>\n",
       "      <td>1.000001e+00</td>\n",
       "      <td>1.000001e+00</td>\n",
       "      <td>1.000001e+00</td>\n",
       "      <td>1.000001e+00</td>\n",
       "      <td>1.000001e+00</td>\n",
       "      <td>1.000001e+00</td>\n",
       "      <td>1.000001e+00</td>\n",
       "      <td>1.000001e+00</td>\n",
       "      <td>1.000001e+00</td>\n",
       "      <td>1.000001e+00</td>\n",
       "    </tr>\n",
       "    <tr>\n",
       "      <th>min</th>\n",
       "      <td>-3.848841e+00</td>\n",
       "      <td>-4.625864e+00</td>\n",
       "      <td>-4.635913e+00</td>\n",
       "      <td>-4.299066e+00</td>\n",
       "      <td>-4.389571e+00</td>\n",
       "      <td>-1.812006e+00</td>\n",
       "      <td>-2.516747e+00</td>\n",
       "      <td>-4.204822e+00</td>\n",
       "      <td>-3.176924e+00</td>\n",
       "      <td>-5.272031e+00</td>\n",
       "    </tr>\n",
       "    <tr>\n",
       "      <th>25%</th>\n",
       "      <td>-7.996727e-01</td>\n",
       "      <td>-6.719782e-01</td>\n",
       "      <td>-6.708583e-01</td>\n",
       "      <td>-6.832690e-01</td>\n",
       "      <td>-6.784904e-01</td>\n",
       "      <td>-7.310039e-01</td>\n",
       "      <td>-8.857041e-01</td>\n",
       "      <td>-7.143978e-01</td>\n",
       "      <td>-7.838332e-01</td>\n",
       "      <td>-8.012154e-01</td>\n",
       "    </tr>\n",
       "    <tr>\n",
       "      <th>50%</th>\n",
       "      <td>2.375837e-01</td>\n",
       "      <td>2.089294e-02</td>\n",
       "      <td>1.882967e-02</td>\n",
       "      <td>6.968236e-02</td>\n",
       "      <td>5.714328e-02</td>\n",
       "      <td>-4.280446e-01</td>\n",
       "      <td>8.746214e-02</td>\n",
       "      <td>1.152198e-01</td>\n",
       "      <td>7.239657e-02</td>\n",
       "      <td>-1.316101e-02</td>\n",
       "    </tr>\n",
       "    <tr>\n",
       "      <th>75%</th>\n",
       "      <td>7.335722e-01</td>\n",
       "      <td>6.907385e-01</td>\n",
       "      <td>6.889335e-01</td>\n",
       "      <td>7.146049e-01</td>\n",
       "      <td>7.096974e-01</td>\n",
       "      <td>1.267039e+00</td>\n",
       "      <td>8.700794e-01</td>\n",
       "      <td>7.418777e-01</td>\n",
       "      <td>7.765086e-01</td>\n",
       "      <td>8.580390e-01</td>\n",
       "    </tr>\n",
       "    <tr>\n",
       "      <th>max</th>\n",
       "      <td>3.288116e+00</td>\n",
       "      <td>4.576647e+00</td>\n",
       "      <td>4.624603e+00</td>\n",
       "      <td>4.280217e+00</td>\n",
       "      <td>4.419768e+00</td>\n",
       "      <td>2.534398e+00</td>\n",
       "      <td>2.347611e+00</td>\n",
       "      <td>3.813633e+00</td>\n",
       "      <td>3.009439e+00</td>\n",
       "      <td>2.671767e+00</td>\n",
       "    </tr>\n",
       "  </tbody>\n",
       "</table>\n",
       "</div>"
      ],
      "text/plain": [
       "                 V0            V1            V2            V3            V4  \\\n",
       "count  1.000000e+06  1.000000e+06  1.000000e+06  1.000000e+06  1.000000e+06   \n",
       "mean   7.501058e-16  1.293472e-16 -1.086050e-15  2.544880e-16  4.477556e-16   \n",
       "std    1.000001e+00  1.000001e+00  1.000001e+00  1.000001e+00  1.000001e+00   \n",
       "min   -3.848841e+00 -4.625864e+00 -4.635913e+00 -4.299066e+00 -4.389571e+00   \n",
       "25%   -7.996727e-01 -6.719782e-01 -6.708583e-01 -6.832690e-01 -6.784904e-01   \n",
       "50%    2.375837e-01  2.089294e-02  1.882967e-02  6.968236e-02  5.714328e-02   \n",
       "75%    7.335722e-01  6.907385e-01  6.889335e-01  7.146049e-01  7.096974e-01   \n",
       "max    3.288116e+00  4.576647e+00  4.624603e+00  4.280217e+00  4.419768e+00   \n",
       "\n",
       "                 V5            V6            V7            V8            V9  \n",
       "count  1.000000e+06  1.000000e+06  1.000000e+06  1.000000e+06  1.000000e+06  \n",
       "mean  -3.410605e-18  3.979039e-17  3.917648e-16 -4.378933e-16 -7.363781e-16  \n",
       "std    1.000001e+00  1.000001e+00  1.000001e+00  1.000001e+00  1.000001e+00  \n",
       "min   -1.812006e+00 -2.516747e+00 -4.204822e+00 -3.176924e+00 -5.272031e+00  \n",
       "25%   -7.310039e-01 -8.857041e-01 -7.143978e-01 -7.838332e-01 -8.012154e-01  \n",
       "50%   -4.280446e-01  8.746214e-02  1.152198e-01  7.239657e-02 -1.316101e-02  \n",
       "75%    1.267039e+00  8.700794e-01  7.418777e-01  7.765086e-01  8.580390e-01  \n",
       "max    2.534398e+00  2.347611e+00  3.813633e+00  3.009439e+00  2.671767e+00  "
      ]
     },
     "execution_count": 11,
     "metadata": {},
     "output_type": "execute_result"
    }
   ],
   "source": [
    "data.describe()"
   ]
  },
  {
   "cell_type": "code",
   "execution_count": 12,
   "metadata": {},
   "outputs": [
    {
     "data": {
      "image/png": "[encoded data removed]",
      "text/plain": [
       "<Figure size 432x288 with 1 Axes>"
      ]
     },
     "metadata": {},
     "output_type": "display_data"
    }
   ],
   "source": [
    "def _draw(G):\n",
    "    nx.draw_circular(G, node_size=1000, node_color=\"white\", with_labels=True)\n",
    "\n",
    "_draw(true_graph)"
   ]
  },
  {
   "cell_type": "markdown",
   "metadata": {},
   "source": [
    "## Learn a structure"
   ]
  },
  {
   "cell_type": "markdown",
   "metadata": {},
   "source": [
    "Import a learning algorithm."
   ]
  },
  {
   "cell_type": "code",
   "execution_count": 13,
   "metadata": {},
   "outputs": [],
   "source": [
    "from cdt.causality.graph import PC"
   ]
  },
  {
   "cell_type": "markdown",
   "metadata": {},
   "source": [
    "Build a discover."
   ]
  },
  {
   "cell_type": "code",
   "execution_count": 14,
   "metadata": {},
   "outputs": [],
   "source": [
    "discover = PC(\n",
    "    CItest = \"gaussian\",     # Conditional independence test type.\n",
    "    alpha = 0.01,            # Significance level alpha.\n",
    ")"
   ]
  },
  {
   "cell_type": "markdown",
   "metadata": {},
   "source": [
    "Run the discovery algorithm."
   ]
  },
  {
   "cell_type": "code",
   "execution_count": 15,
   "metadata": {},
   "outputs": [
    {
     "data": {
      "image/png": "[encoded data removed]",
      "text/plain": [
       "<Figure size 432x288 with 1 Axes>"
      ]
     },
     "metadata": {},
     "output_type": "display_data"
    }
   ],
   "source": [
    "predicted_graph = discover.predict(data)\n",
    "_draw(predicted_graph)"
   ]
  },
  {
   "cell_type": "markdown",
   "metadata": {},
   "source": [
    "## Evaluation"
   ]
  },
  {
   "cell_type": "markdown",
   "metadata": {},
   "source": [
    "Import evaluation metrics."
   ]
  },
  {
   "cell_type": "code",
   "execution_count": 16,
   "metadata": {},
   "outputs": [],
   "source": [
    "from cdt.metrics import (precision_recall, SID, SHD)"
   ]
  },
  {
   "cell_type": "markdown",
   "metadata": {},
   "source": [
    "Compute the metrics given the true and predicted graphs."
   ]
  },
  {
   "cell_type": "code",
   "execution_count": 17,
   "metadata": {},
   "outputs": [
    {
     "data": {
      "text/plain": [
       "{'Area Under the precision/recall Curve (AUC)': 0.6875,\n",
       " 'Structural Hamming Distance (SHD)': 15,\n",
       " 'Structural Intervention Distance (SID)': 17}"
      ]
     },
     "execution_count": 17,
     "metadata": {},
     "output_type": "execute_result"
    }
   ],
   "source": [
    "scores = {\n",
    "    \"Area Under the precision/recall Curve (AUC)\": precision_recall(true_graph, predicted_graph)[0],\n",
    "    \"Structural Hamming Distance (SHD)\": SHD(true_graph, predicted_graph),\n",
    "    \"Structural Intervention Distance (SID)\": int(SID(true_graph, predicted_graph)),\n",
    "}\n",
    "scores"
   ]
  }
 ],
 "metadata": {
  "kernelspec": {
   "display_name": "Python 3",
   "language": "python",
   "name": "python3"
  },
  "language_info": {
   "codemirror_mode": {
    "name": "ipython",
    "version": 3
   },
   "file_extension": ".py",
   "mimetype": "text/x-python",
   "name": "python",
   "nbconvert_exporter": "python",
   "pygments_lexer": "ipython3",
   "version": "3.8.10"
  }
 },
 "nbformat": 4,
 "nbformat_minor": 4
}
