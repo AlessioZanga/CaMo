{
 "cells": [
  {
   "cell_type": "markdown",
   "metadata": {},
   "source": [
    "Installing CDT."
   ]
  },
  {
   "cell_type": "code",
   "execution_count": 1,
   "metadata": {},
   "outputs": [],
   "source": [
    "%%capture\n",
    "!pip install cdt"
   ]
  },
  {
   "cell_type": "markdown",
   "metadata": {},
   "source": [
    "Loading R extension for Jupyter Lab."
   ]
  },
  {
   "cell_type": "code",
   "execution_count": 2,
   "metadata": {},
   "outputs": [],
   "source": [
    "%load_ext rpy2.ipython"
   ]
  },
  {
   "cell_type": "markdown",
   "metadata": {},
   "source": [
    "Installing R packages required by CDT. It will take a moment..."
   ]
  },
  {
   "cell_type": "code",
   "execution_count": 3,
   "metadata": {},
   "outputs": [],
   "source": [
    "%%capture\n",
    "%%R\n",
    "options(Ncpus = parallel::detectCores())\n",
    "system(\"sudo apt install -y libgsl-dev\", intern=TRUE)\n",
    "install.packages(c(\"devtools\", \"pcalg\", \"kpcalg\", \"SID\"))\n",
    "devtools::install_github(\"Diviyan-Kalainathan/RCIT\")"
   ]
  },
  {
   "cell_type": "markdown",
   "metadata": {},
   "source": [
    "Disabling warnings."
   ]
  },
  {
   "cell_type": "code",
   "execution_count": 4,
   "metadata": {},
   "outputs": [],
   "source": [
    "import warnings\n",
    "warnings.filterwarnings(\"ignore\")"
   ]
  },
  {
   "cell_type": "markdown",
   "metadata": {},
   "source": [
    "Importing packages."
   ]
  },
  {
   "cell_type": "code",
   "execution_count": 5,
   "metadata": {},
   "outputs": [],
   "source": [
    "import cdt\n",
    "import networkx as nx"
   ]
  },
  {
   "cell_type": "markdown",
   "metadata": {},
   "source": [
    "# Causal Discovery with the Toolbox (CDT)"
   ]
  },
  {
   "cell_type": "markdown",
   "metadata": {},
   "source": [
    "By Alessio Zanga & Fabio Stella"
   ]
  },
  {
   "cell_type": "markdown",
   "metadata": {},
   "source": [
    "## Abstract"
   ]
  },
  {
   "cell_type": "markdown",
   "metadata": {},
   "source": [
    "This notebook represents a quick-start guide to causal discovery using the Causal Discovery Toolbox package."
   ]
  },
  {
   "cell_type": "markdown",
   "metadata": {},
   "source": [
    "## Generate a Dataset"
   ]
  },
  {
   "cell_type": "markdown",
   "metadata": {},
   "source": [
    "Import a dataset generator."
   ]
  },
  {
   "cell_type": "code",
   "execution_count": 6,
   "metadata": {},
   "outputs": [],
   "source": [
    "from cdt.data import AcyclicGraphGenerator"
   ]
  },
  {
   "cell_type": "markdown",
   "metadata": {},
   "source": [
    "Construct the generator given input parameters."
   ]
  },
  {
   "cell_type": "code",
   "execution_count": 7,
   "metadata": {},
   "outputs": [],
   "source": [
    "generator = AcyclicGraphGenerator(\n",
    "    causal_mechanism = 'linear',   # Type of functions in the functional set F (see Structural Causal Models).\n",
    "    noise = 'gaussian',            # Type of noise terms of the set of hidden variables U.\n",
    "    nodes = 10,                    # Cardinality of the set of observed variables V.\n",
    "    parents_max = 2,               # Max number of parents per node.\n",
    "    npoints = int(1e6),            # Sample size.\n",
    ")"
   ]
  },
  {
   "cell_type": "markdown",
   "metadata": {},
   "source": [
    "Sample from the generator."
   ]
  },
  {
   "cell_type": "code",
   "execution_count": 8,
   "metadata": {},
   "outputs": [],
   "source": [
    "data, true_graph = generator.generate()"
   ]
  },
  {
   "cell_type": "markdown",
   "metadata": {},
   "source": [
    "It returns a Pandas DataFrame and a Networkx directed acyclic graph."
   ]
  },
  {
   "cell_type": "code",
   "execution_count": 9,
   "metadata": {},
   "outputs": [
    {
     "data": {
      "text/plain": [
       "(pandas.core.frame.DataFrame, networkx.classes.digraph.DiGraph)"
      ]
     },
     "execution_count": 9,
     "metadata": {},
     "output_type": "execute_result"
    }
   ],
   "source": [
    "type(data), type(true_graph)"
   ]
  },
  {
   "cell_type": "code",
   "execution_count": 10,
   "metadata": {},
   "outputs": [
    {
     "data": {
      "text/html": [
       "<div>\n",
       "<style scoped>\n",
       "    .dataframe tbody tr th:only-of-type {\n",
       "        vertical-align: middle;\n",
       "    }\n",
       "\n",
       "    .dataframe tbody tr th {\n",
       "        vertical-align: top;\n",
       "    }\n",
       "\n",
       "    .dataframe thead th {\n",
       "        text-align: right;\n",
       "    }\n",
       "</style>\n",
       "<table border=\"1\" class=\"dataframe\">\n",
       "  <thead>\n",
       "    <tr style=\"text-align: right;\">\n",
       "      <th></th>\n",
       "      <th>V0</th>\n",
       "      <th>V1</th>\n",
       "      <th>V2</th>\n",
       "      <th>V3</th>\n",
       "      <th>V4</th>\n",
       "      <th>V5</th>\n",
       "      <th>V6</th>\n",
       "      <th>V7</th>\n",
       "      <th>V8</th>\n",
       "      <th>V9</th>\n",
       "    </tr>\n",
       "  </thead>\n",
       "  <tbody>\n",
       "    <tr>\n",
       "      <th>count</th>\n",
       "      <td>1.000000e+06</td>\n",
       "      <td>1.000000e+06</td>\n",
       "      <td>1.000000e+06</td>\n",
       "      <td>1.000000e+06</td>\n",
       "      <td>1.000000e+06</td>\n",
       "      <td>1.000000e+06</td>\n",
       "      <td>1.000000e+06</td>\n",
       "      <td>1.000000e+06</td>\n",
       "      <td>1.000000e+06</td>\n",
       "      <td>1.000000e+06</td>\n",
       "    </tr>\n",
       "    <tr>\n",
       "      <th>mean</th>\n",
       "      <td>6.796768e-16</td>\n",
       "      <td>-8.014922e-17</td>\n",
       "      <td>1.307399e-18</td>\n",
       "      <td>-7.090648e-16</td>\n",
       "      <td>9.674750e-17</td>\n",
       "      <td>3.596199e-16</td>\n",
       "      <td>-1.616627e-16</td>\n",
       "      <td>1.338947e-16</td>\n",
       "      <td>6.250502e-16</td>\n",
       "      <td>2.913438e-16</td>\n",
       "    </tr>\n",
       "    <tr>\n",
       "      <th>std</th>\n",
       "      <td>1.000001e+00</td>\n",
       "      <td>1.000001e+00</td>\n",
       "      <td>1.000001e+00</td>\n",
       "      <td>1.000001e+00</td>\n",
       "      <td>1.000001e+00</td>\n",
       "      <td>1.000001e+00</td>\n",
       "      <td>1.000001e+00</td>\n",
       "      <td>1.000001e+00</td>\n",
       "      <td>1.000001e+00</td>\n",
       "      <td>1.000001e+00</td>\n",
       "    </tr>\n",
       "    <tr>\n",
       "      <th>min</th>\n",
       "      <td>-4.491429e+00</td>\n",
       "      <td>-4.600853e+00</td>\n",
       "      <td>-4.593280e+00</td>\n",
       "      <td>-4.852635e+00</td>\n",
       "      <td>-2.425644e+00</td>\n",
       "      <td>-4.605391e+00</td>\n",
       "      <td>-2.117112e+00</td>\n",
       "      <td>-4.857034e+00</td>\n",
       "      <td>-4.086772e+00</td>\n",
       "      <td>-4.709643e+00</td>\n",
       "    </tr>\n",
       "    <tr>\n",
       "      <th>25%</th>\n",
       "      <td>-6.489129e-01</td>\n",
       "      <td>-6.736226e-01</td>\n",
       "      <td>-6.738895e-01</td>\n",
       "      <td>-6.736345e-01</td>\n",
       "      <td>-9.450260e-01</td>\n",
       "      <td>-6.739491e-01</td>\n",
       "      <td>-1.214764e+00</td>\n",
       "      <td>-6.734687e-01</td>\n",
       "      <td>-6.895486e-01</td>\n",
       "      <td>-6.741828e-01</td>\n",
       "    </tr>\n",
       "    <tr>\n",
       "      <th>50%</th>\n",
       "      <td>-1.901525e-02</td>\n",
       "      <td>4.100325e-04</td>\n",
       "      <td>5.965794e-04</td>\n",
       "      <td>1.447564e-04</td>\n",
       "      <td>2.673667e-01</td>\n",
       "      <td>6.611892e-04</td>\n",
       "      <td>1.319768e-01</td>\n",
       "      <td>5.864984e-04</td>\n",
       "      <td>-3.320479e-02</td>\n",
       "      <td>-1.304308e-04</td>\n",
       "    </tr>\n",
       "    <tr>\n",
       "      <th>75%</th>\n",
       "      <td>7.591482e-01</td>\n",
       "      <td>6.740893e-01</td>\n",
       "      <td>6.742649e-01</td>\n",
       "      <td>6.763850e-01</td>\n",
       "      <td>9.002388e-01</td>\n",
       "      <td>6.746710e-01</td>\n",
       "      <td>9.196885e-01</td>\n",
       "      <td>6.754570e-01</td>\n",
       "      <td>6.233915e-01</td>\n",
       "      <td>6.735375e-01</td>\n",
       "    </tr>\n",
       "    <tr>\n",
       "      <th>max</th>\n",
       "      <td>3.563736e+00</td>\n",
       "      <td>5.102066e+00</td>\n",
       "      <td>5.126792e+00</td>\n",
       "      <td>4.929636e+00</td>\n",
       "      <td>2.375303e+00</td>\n",
       "      <td>5.103290e+00</td>\n",
       "      <td>1.925120e+00</td>\n",
       "      <td>4.774560e+00</td>\n",
       "      <td>4.786599e+00</td>\n",
       "      <td>4.606204e+00</td>\n",
       "    </tr>\n",
       "  </tbody>\n",
       "</table>\n",
       "</div>"
      ],
      "text/plain": [
       "                 V0            V1            V2            V3            V4  \\\n",
       "count  1.000000e+06  1.000000e+06  1.000000e+06  1.000000e+06  1.000000e+06   \n",
       "mean   6.796768e-16 -8.014922e-17  1.307399e-18 -7.090648e-16  9.674750e-17   \n",
       "std    1.000001e+00  1.000001e+00  1.000001e+00  1.000001e+00  1.000001e+00   \n",
       "min   -4.491429e+00 -4.600853e+00 -4.593280e+00 -4.852635e+00 -2.425644e+00   \n",
       "25%   -6.489129e-01 -6.736226e-01 -6.738895e-01 -6.736345e-01 -9.450260e-01   \n",
       "50%   -1.901525e-02  4.100325e-04  5.965794e-04  1.447564e-04  2.673667e-01   \n",
       "75%    7.591482e-01  6.740893e-01  6.742649e-01  6.763850e-01  9.002388e-01   \n",
       "max    3.563736e+00  5.102066e+00  5.126792e+00  4.929636e+00  2.375303e+00   \n",
       "\n",
       "                 V5            V6            V7            V8            V9  \n",
       "count  1.000000e+06  1.000000e+06  1.000000e+06  1.000000e+06  1.000000e+06  \n",
       "mean   3.596199e-16 -1.616627e-16  1.338947e-16  6.250502e-16  2.913438e-16  \n",
       "std    1.000001e+00  1.000001e+00  1.000001e+00  1.000001e+00  1.000001e+00  \n",
       "min   -4.605391e+00 -2.117112e+00 -4.857034e+00 -4.086772e+00 -4.709643e+00  \n",
       "25%   -6.739491e-01 -1.214764e+00 -6.734687e-01 -6.895486e-01 -6.741828e-01  \n",
       "50%    6.611892e-04  1.319768e-01  5.864984e-04 -3.320479e-02 -1.304308e-04  \n",
       "75%    6.746710e-01  9.196885e-01  6.754570e-01  6.233915e-01  6.735375e-01  \n",
       "max    5.103290e+00  1.925120e+00  4.774560e+00  4.786599e+00  4.606204e+00  "
      ]
     },
     "execution_count": 10,
     "metadata": {},
     "output_type": "execute_result"
    }
   ],
   "source": [
    "data.describe()"
   ]
  },
  {
   "cell_type": "code",
   "execution_count": 11,
   "metadata": {},
   "outputs": [
    {
     "data": {
      "image/png": "[encoded data removed]",
      "text/plain": [
       "<Figure size 432x288 with 1 Axes>"
      ]
     },
     "metadata": {},
     "output_type": "display_data"
    }
   ],
   "source": [
    "def _draw(G):\n",
    "    nx.draw_circular(G, node_size=1000, node_color=\"white\", with_labels=True)\n",
    "\n",
    "_draw(true_graph)"
   ]
  },
  {
   "cell_type": "markdown",
   "metadata": {},
   "source": [
    "## Learn a structure"
   ]
  },
  {
   "cell_type": "markdown",
   "metadata": {},
   "source": [
    "Import a learning algorithm."
   ]
  },
  {
   "cell_type": "code",
   "execution_count": 12,
   "metadata": {},
   "outputs": [],
   "source": [
    "from cdt.causality.graph import PC"
   ]
  },
  {
   "cell_type": "markdown",
   "metadata": {},
   "source": [
    "Build a discover."
   ]
  },
  {
   "cell_type": "code",
   "execution_count": 13,
   "metadata": {},
   "outputs": [],
   "source": [
    "discover = PC(\n",
    "    CItest = \"gaussian\",     # Conditional independence test type.\n",
    "    alpha = 0.01,            # Significance level alpha.\n",
    ")"
   ]
  },
  {
   "cell_type": "markdown",
   "metadata": {},
   "source": [
    "Run the discovery algorithm."
   ]
  },
  {
   "cell_type": "code",
   "execution_count": 14,
   "metadata": {},
   "outputs": [
    {
     "data": {
      "image/png": "[encoded data removed]",
      "text/plain": [
       "<Figure size 432x288 with 1 Axes>"
      ]
     },
     "metadata": {},
     "output_type": "display_data"
    }
   ],
   "source": [
    "predicted_graph = discover.predict(data)\n",
    "_draw(predicted_graph)"
   ]
  },
  {
   "cell_type": "markdown",
   "metadata": {},
   "source": [
    "## Evaluation"
   ]
  },
  {
   "cell_type": "markdown",
   "metadata": {},
   "source": [
    "Import evaluation metrics."
   ]
  },
  {
   "cell_type": "code",
   "execution_count": 15,
   "metadata": {},
   "outputs": [],
   "source": [
    "from cdt.metrics import (precision_recall, SID, SHD)"
   ]
  },
  {
   "cell_type": "markdown",
   "metadata": {},
   "source": [
    "Compute the metrics given the true and predicted graphs."
   ]
  },
  {
   "cell_type": "code",
   "execution_count": 16,
   "metadata": {},
   "outputs": [
    {
     "data": {
      "text/plain": [
       "{'Area Under the precision/recall Curve (AUC)': 0.7083333333333334,\n",
       " 'Structural Hamming Distance (SHD)': 14,\n",
       " 'Structural Intervention Distance (SID)': 58}"
      ]
     },
     "execution_count": 16,
     "metadata": {},
     "output_type": "execute_result"
    }
   ],
   "source": [
    "scores = {\n",
    "    \"Area Under the precision/recall Curve (AUC)\": precision_recall(true_graph, predicted_graph)[0],\n",
    "    \"Structural Hamming Distance (SHD)\": SHD(true_graph, predicted_graph),\n",
    "    \"Structural Intervention Distance (SID)\": int(SID(true_graph, predicted_graph)),\n",
    "}\n",
    "scores"
   ]
  }
 ],
 "metadata": {
  "kernelspec": {
   "display_name": "Python 3",
   "language": "python",
   "name": "python3"
  },
  "language_info": {
   "codemirror_mode": {
    "name": "ipython",
    "version": 3
   },
   "file_extension": ".py",
   "mimetype": "text/x-python",
   "name": "python",
   "nbconvert_exporter": "python",
   "pygments_lexer": "ipython3",
   "version": "3.8.10"
  }
 },
 "nbformat": 4,
 "nbformat_minor": 4
}
